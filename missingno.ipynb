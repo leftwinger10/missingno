{
 "cells": [
  {
   "cell_type": "code",
   "execution_count": 1,
   "metadata": {
    "collapsed": false
   },
   "outputs": [],
   "source": [
    "import requests\n",
    "import pandas as pd\n",
    "# import pandas_profiling\n",
    "# import numpy as np\n",
    "# from matplotlib import gridspec\n",
    "# import matplotlib.pyplot as plt\n",
    "from missingno.missingno import missingno"
   ]
  },
  {
   "cell_type": "code",
   "execution_count": 2,
   "metadata": {
    "collapsed": true
   },
   "outputs": [],
   "source": [
    "%matplotlib inline"
   ]
  },
  {
   "cell_type": "code",
   "execution_count": 3,
   "metadata": {
    "collapsed": true
   },
   "outputs": [],
   "source": [
    "def download_file(url, filename):\n",
    "    \"\"\"\n",
    "    Helper method handling downloading large files from `url` to `filename`. Returns a pointer to `filename`.\n",
    "    \"\"\"\n",
    "    r = requests.get(url, stream=True)\n",
    "    with open(filename, 'wb') as f:\n",
    "        for chunk in r.iter_content(chunk_size=1024): \n",
    "            if chunk: # filter out keep-alive new chunks\n",
    "                f.write(chunk)\n",
    "    return filename"
   ]
  },
  {
   "cell_type": "code",
   "execution_count": 4,
   "metadata": {
    "collapsed": false,
    "scrolled": true
   },
   "outputs": [],
   "source": [
    "dat = download_file(\"https://data.cityofnewyork.us/api/views/h9gi-nx95/rows.csv?accessType=DOWNLOAD\",\n",
    "                    \"NYPD Motor Vehicle Collisions.csv\")\n",
    "dat_df = pd.read_csv(dat, index_col=23)\n",
    "pd.set_option('display.max_columns', None)"
   ]
  },
  {
   "cell_type": "code",
   "execution_count": 5,
   "metadata": {
    "collapsed": true
   },
   "outputs": [],
   "source": [
    "df_100 = dat_df.sample(100)\n",
    "df_1000 = dat_df.sample(1000)"
   ]
  },
  {
   "cell_type": "code",
   "execution_count": 6,
   "metadata": {
    "collapsed": true
   },
   "outputs": [],
   "source": [
    "# df_100 = pd.read_csv(\"100 point sample.csv\")"
   ]
  },
  {
   "cell_type": "code",
   "execution_count": 7,
   "metadata": {
    "collapsed": true
   },
   "outputs": [],
   "source": [
    "def missingno(df, figsize=(20, 10), width_ratios=(15, 1), color=(0.25, 0.25, 0.25), fontsize=16):\n",
    "    # The height and width parameters are the number of rows and the number of columns in the dataframe, respectively.\n",
    "    height = df.shape[0]\n",
    "    width = df.shape[1]\n",
    "    # Z is the color-mask array.\n",
    "    Z = df.isnull().values\n",
    "\n",
    "    # G is a NxNx3 matrix\n",
    "    G = np.zeros((height, width, 3))\n",
    "\n",
    "    # Apply the Z color-mask to set the RGB of each pixel.\n",
    "    G[Z > 0.5] = [1, 1, 1]\n",
    "    G[Z < 0.5] = color\n",
    "\n",
    "    # Set up the matplotlib grid layout.\n",
    "    fig = plt.figure(figsize=figsize)\n",
    "    gs = gridspec.GridSpec(1, 2, width_ratios=width_ratios)\n",
    "    ax0 = plt.subplot(gs[0])\n",
    "    ax1 = plt.subplot(gs[1])\n",
    "    # Create the nullity plot.\n",
    "    ax0.imshow(G, interpolation='none')\n",
    "\n",
    "    # Remove extraneous default visual elements.\n",
    "    ax0.set_aspect('auto')\n",
    "    ax0.grid(b=False)\n",
    "    ax0.xaxis.tick_top()\n",
    "    ax0.xaxis.set_ticks_position('none')\n",
    "    ax0.yaxis.set_ticks_position('none')\n",
    "    # Remove the black border.\n",
    "    ax0.spines['top'].set_visible(False)\n",
    "    ax0.spines['right'].set_visible(False)\n",
    "    ax0.spines['bottom'].set_visible(False)\n",
    "    ax0.spines['left'].set_visible(False)\n",
    "\n",
    "    # Set up and rotate the column ticks.\n",
    "    ha = 'left'\n",
    "    ax0.set_xticks(list(range(0, width)))  # set tick location\n",
    "    ax0.set_xticklabels(list(df.columns), rotation=45, ha=ha, fontsize=fontsize)  # rotate the labels with anchoring.\n",
    "\n",
    "    # Set up the two top-bottom row ticks.\n",
    "    ax0.set_yticks([0, df.shape[0] - 1])\n",
    "    ax0.set_yticklabels([1, df.shape[0]], fontsize=fontsize + 4)\n",
    "    # Create the inter-column vertical grid.\n",
    "    in_between_point = [x + 0.5 for x in range(0, width - 1)]\n",
    "    for in_between_point in in_between_point:\n",
    "        ax0.axvline(in_between_point, linestyle='-', color='white')\n",
    "\n",
    "    # Calculate row-wise completeness for the sparkline.\n",
    "    completeness_srs = df.notnull().astype(bool).sum(axis=1)\n",
    "    x_domain = list(range(0, height))\n",
    "    y_range = list(completeness_srs.values)\n",
    "    min_completeness = min(y_range)\n",
    "    max_completeness = max(y_range)\n",
    "\n",
    "    # Set up the sparkline.\n",
    "    ax1.grid(b=False)\n",
    "    ax1.set_aspect('auto')\n",
    "    ax1.set_axis_bgcolor((1, 1, 1))\n",
    "    # Remove the black border.\n",
    "    ax1.spines['top'].set_visible(False)\n",
    "    ax1.spines['right'].set_visible(False)\n",
    "    ax1.spines['bottom'].set_visible(False)\n",
    "    ax1.spines['left'].set_visible(False)\n",
    "\n",
    "    # Handle sparkline ticks.\n",
    "    ax1.set_xticks([min_completeness, max_completeness])\n",
    "    ax1.xaxis.tick_top()\n",
    "    ax1.xaxis.set_ticks_position('none')\n",
    "    ax1.set_xticklabels([min_completeness, max_completeness], fontsize=fontsize)\n",
    "    ax1.set_yticks([])\n",
    "\n",
    "    # Plot sparkline---plot is sideways so the x and y axis are reversed.\n",
    "    ax1.plot(y_range, x_domain, color=color)\n",
    "\n",
    "    plt.show()"
   ]
  },
  {
   "cell_type": "code",
   "execution_count": 8,
   "metadata": {
    "collapsed": false
   },
   "outputs": [
    {
     "ename": "NameError",
     "evalue": "name 'np' is not defined",
     "output_type": "error",
     "traceback": [
      "\u001b[1;31m---------------------------------------------------------------------------\u001b[0m",
      "\u001b[1;31mNameError\u001b[0m                                 Traceback (most recent call last)",
      "\u001b[1;32m<ipython-input-8-013384dd0665>\u001b[0m in \u001b[0;36m<module>\u001b[1;34m()\u001b[0m\n\u001b[1;32m----> 1\u001b[1;33m \u001b[0mmissingno\u001b[0m\u001b[1;33m(\u001b[0m\u001b[0mdf_100\u001b[0m\u001b[1;33m,\u001b[0m \u001b[0mcolor\u001b[0m\u001b[1;33m=\u001b[0m\u001b[1;33m[\u001b[0m\u001b[1;36m0.25\u001b[0m\u001b[1;33m,\u001b[0m \u001b[1;36m0.25\u001b[0m\u001b[1;33m,\u001b[0m \u001b[1;36m0.25\u001b[0m\u001b[1;33m]\u001b[0m\u001b[1;33m)\u001b[0m\u001b[1;33m\u001b[0m\u001b[0m\n\u001b[0m",
      "\u001b[1;32m<ipython-input-7-907e87c6a0c1>\u001b[0m in \u001b[0;36mmissingno\u001b[1;34m(df, figsize, width_ratios, color, fontsize)\u001b[0m\n\u001b[0;32m      7\u001b[0m \u001b[1;33m\u001b[0m\u001b[0m\n\u001b[0;32m      8\u001b[0m     \u001b[1;31m# G is a NxNx3 matrix\u001b[0m\u001b[1;33m\u001b[0m\u001b[1;33m\u001b[0m\u001b[0m\n\u001b[1;32m----> 9\u001b[1;33m     \u001b[0mG\u001b[0m \u001b[1;33m=\u001b[0m \u001b[0mnp\u001b[0m\u001b[1;33m.\u001b[0m\u001b[0mzeros\u001b[0m\u001b[1;33m(\u001b[0m\u001b[1;33m(\u001b[0m\u001b[0mheight\u001b[0m\u001b[1;33m,\u001b[0m \u001b[0mwidth\u001b[0m\u001b[1;33m,\u001b[0m \u001b[1;36m3\u001b[0m\u001b[1;33m)\u001b[0m\u001b[1;33m)\u001b[0m\u001b[1;33m\u001b[0m\u001b[0m\n\u001b[0m\u001b[0;32m     10\u001b[0m \u001b[1;33m\u001b[0m\u001b[0m\n\u001b[0;32m     11\u001b[0m     \u001b[1;31m# Apply the Z color-mask to set the RGB of each pixel.\u001b[0m\u001b[1;33m\u001b[0m\u001b[1;33m\u001b[0m\u001b[0m\n",
      "\u001b[1;31mNameError\u001b[0m: name 'np' is not defined"
     ]
    }
   ],
   "source": [
    "missingno(df_100, color=[0.25, 0.25, 0.25])"
   ]
  },
  {
   "cell_type": "code",
   "execution_count": null,
   "metadata": {
    "collapsed": false
   },
   "outputs": [],
   "source": [
    "missingno(df_1000)"
   ]
  }
 ],
 "metadata": {
  "kernelspec": {
   "display_name": "Python 3",
   "language": "python",
   "name": "python3"
  },
  "language_info": {
   "codemirror_mode": {
    "name": "ipython",
    "version": 3
   },
   "file_extension": ".py",
   "mimetype": "text/x-python",
   "name": "python",
   "nbconvert_exporter": "python",
   "pygments_lexer": "ipython3",
   "version": "3.5.1"
  }
 },
 "nbformat": 4,
 "nbformat_minor": 0
}
